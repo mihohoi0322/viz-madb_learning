{
 "cells": [
  {
   "cell_type": "code",
   "execution_count": 197,
   "metadata": {
    "collapsed": true
   },
   "outputs": [
    {
     "name": "stdout",
     "output_type": "stream",
     "text": [
      "Requirement already satisfied: ijson in /Library/Frameworks/Python.framework/Versions/3.10/lib/python3.10/site-packages (3.1.4)\r\n",
      "\u001B[33mWARNING: You are using pip version 21.2.3; however, version 22.0.4 is available.\r\n",
      "You should consider upgrading via the '/Library/Frameworks/Python.framework/Versions/3.10/bin/python3.10 -m pip install --upgrade pip' command.\u001B[0m\r\n"
     ]
    }
   ],
   "source": [
    "import warnings\n",
    "warnings.filterwarnings('ignore')\n",
    "!pip3 install ijson"
   ]
  },
  {
   "cell_type": "code",
   "execution_count": 198,
   "outputs": [],
   "source": [
    "import glob\n",
    "import ijson\n",
    "import json\n",
    "import numpy as np\n",
    "import os\n",
    "import pandas as pd\n",
    "from pprint import pprint\n",
    "from tqdm import tqdm_notebook as tqdm\n",
    "import zipfile"
   ],
   "metadata": {
    "collapsed": false,
    "pycharm": {
     "name": "#%%\n"
    }
   }
  },
  {
   "cell_type": "code",
   "execution_count": 199,
   "outputs": [
    {
     "name": "stdout",
     "output_type": "stream",
     "text": [
      "/Users/miho/develop/viz-madb_learning\n"
     ]
    }
   ],
   "source": [
    "DIR_IN = './madb/data/json-ld'\n",
    "DIR_TMP = './data/preprocess/tmp'\n",
    "DIR_OUT = './data/preprocess/out'\n",
    "print(os.getcwd())"
   ],
   "metadata": {
    "collapsed": false,
    "pycharm": {
     "name": "#%%\n"
    }
   }
  },
  {
   "cell_type": "code",
   "execution_count": 200,
   "outputs": [],
   "source": [
    "FNS_CM = [\n",
    "    'cm102',\n",
    "    'cm105',\n",
    "    'cm106',\n",
    "]"
   ],
   "metadata": {
    "collapsed": false,
    "pycharm": {
     "name": "#%%\n"
    }
   }
  },
  {
   "cell_type": "code",
   "execution_count": 201,
   "outputs": [],
   "source": [
    "# 分析対象とする雑誌名\n",
    "MCNAMES = [\n",
    "    '週刊少年ジャンプ',\n",
    "    '週刊少年マガジン',\n",
    "    '週刊少年サンデー',\n",
    "    '週刊少年チャンピオン',\n",
    "]"
   ],
   "metadata": {
    "collapsed": false,
    "pycharm": {
     "name": "#%%\n"
    }
   }
  },
  {
   "cell_type": "code",
   "execution_count": 202,
   "outputs": [],
   "source": [
    "COLS_CM105 = [\n",
    "    'identifier',\n",
    "    'label',\n",
    "    'name',\n",
    "]"
   ],
   "metadata": {
    "collapsed": false,
    "pycharm": {
     "name": "#%%\n"
    }
   }
  },
  {
   "cell_type": "code",
   "execution_count": 203,
   "outputs": [],
   "source": [
    "# cm102, genre=='雑誌巻号'\n",
    "COLS_MIS = {\n",
    "    'identifier': 'miid',\n",
    "    'label': 'miname',\n",
    "    'datePublished': 'datePublished',\n",
    "    'isPartOf': 'mcid',\n",
    "    'issueNumber': 'issueNumber',\n",
    "    'numberOfPages': 'numberOfPages',\n",
    "    'publisher': 'publisher',\n",
    "    'volumeNumber': 'volumeNumber',\n",
    "    'price': 'price',\n",
    "    'editor': 'editor',\n",
    "}"
   ],
   "metadata": {
    "collapsed": false,
    "pycharm": {
     "name": "#%%\n"
    }
   }
  },
  {
   "cell_type": "code",
   "execution_count": 204,
   "outputs": [],
   "source": [
    "# cm102, genre=='マンガ作品'\n",
    "COLS_EPS = {\n",
    "    'relatedCollection': 'cid',\n",
    "    'creator': 'creator',\n",
    "    'note': 'note',\n",
    "    'alternativeHeadline': 'epname',\n",
    "    'pageStart': 'pageStart',\n",
    "    'pageEnd': 'pageEnd',\n",
    "    'isPartOf': 'miid',\n",
    "}"
   ],
   "metadata": {
    "collapsed": false,
    "pycharm": {
     "name": "#%%\n"
    }
   }
  },
  {
   "cell_type": "code",
   "execution_count": 205,
   "outputs": [],
   "source": [
    "# cm106\n",
    "COLS_CS = {\n",
    "    'identifier': 'cid',\n",
    "    'name': 'cname'\n",
    "}"
   ],
   "metadata": {
    "collapsed": false,
    "pycharm": {
     "name": "#%%\n"
    }
   }
  },
  {
   "cell_type": "code",
   "execution_count": 206,
   "outputs": [],
   "source": [
    "# 最終的に出力するカラム\n",
    "COLS_OUT = [\n",
    "    'mcname', 'miid', 'miname', 'cid', 'cname', 'epname',\n",
    "    'creator', 'pageStart', 'pageEnd', 'numberOfPages',\n",
    "    'datePublished', 'price', 'publisher', 'editor',\n",
    "]"
   ],
   "metadata": {
    "collapsed": false,
    "pycharm": {
     "name": "#%%\n"
    }
   }
  },
  {
   "cell_type": "code",
   "execution_count": 207,
   "outputs": [],
   "source": [
    "# 許容するpageEnd，pageStartの最大値\n",
    "MAX_PAGES = 1000"
   ],
   "metadata": {
    "collapsed": false,
    "pycharm": {
     "name": "#%%\n"
    }
   }
  },
  {
   "cell_type": "code",
   "execution_count": 208,
   "outputs": [],
   "source": [
    "# ここから関数\n",
    "def read_json(path):\n",
    "    \"\"\"\n",
    "    json file を辞書として読み込む関数\n",
    "    :param path: read filepath\n",
    "    :return dict: 辞書\n",
    "    \"\"\"\n",
    "    with open(path, 'r') as f:\n",
    "        dct = json.load(f)\n",
    "        return dct"
   ],
   "metadata": {
    "collapsed": false,
    "pycharm": {
     "name": "#%%\n"
    }
   }
  },
  {
   "cell_type": "code",
   "execution_count": 209,
   "outputs": [],
   "source": [
    "def save_json(path, dct):\n",
    "    \"\"\"\n",
    "    辞書を json 形式で保存する関数\n",
    "    :param path: json file to save\n",
    "    :param dct: save dict\n",
    "    \"\"\"\n",
    "    with open(path, 'w') as f:\n",
    "        json.dump(dct, f, ensure_ascii=False, ident=4)"
   ],
   "metadata": {
    "collapsed": false,
    "pycharm": {
     "name": "#%%\n"
    }
   }
  },
  {
   "cell_type": "code",
   "execution_count": 210,
   "outputs": [],
   "source": [
    "def read_json_w_filters(path, items, filters):\n",
    "    \"\"\"\n",
    "    item nおうち、filters の条件を満たすもののみを抽出\n",
    "    :param path: json file path\n",
    "    :param items:  json file in the item-key\n",
    "    :param filters: dict, item[key] in value で条件付けする想定\n",
    "    \"\"\"\n",
    "    out = []\n",
    "    with open(path, 'r') as f:\n",
    "        parse = ijson.items(f, items)\n",
    "        for item in parse:\n",
    "            # filters の条件を全て満足するもの以外は break\n",
    "            for k, v in filters.items():\n",
    "                if k not in item.keys():\n",
    "                    break\n",
    "                if item[k] not in v:\n",
    "                    break\n",
    "            else:\n",
    "                # break しなかった場合は、 out に追加\n",
    "                out.append(item)\n",
    "    return out"
   ],
   "metadata": {
    "collapsed": false,
    "pycharm": {
     "name": "#%%\n"
    }
   }
  },
  {
   "cell_type": "code",
   "execution_count": 211,
   "outputs": [],
   "source": [
    "def try_mkdirs(path) -> None:\n",
    "    \"\"\"mkdirs に try\"\"\"\n",
    "    try:\n",
    "        os.makedirs(path)\n",
    "    except FileExistsError as e:\n",
    "        pass"
   ],
   "metadata": {
    "collapsed": false,
    "pycharm": {
     "name": "#%%\n"
    }
   }
  },
  {
   "cell_type": "code",
   "execution_count": 212,
   "outputs": [],
   "source": [
    "# 出力フォルダの生成\n",
    "try_mkdirs(DIR_TMP)\n",
    "try_mkdirs(DIR_OUT)"
   ],
   "metadata": {
    "collapsed": false,
    "pycharm": {
     "name": "#%%\n"
    }
   }
  },
  {
   "cell_type": "code",
   "execution_count": 213,
   "outputs": [],
   "source": [
    "# 解凍： マンガ系のデータ (*cm*) のみ DIR_TMP に解凍する\n",
    "ps_cm = glob.glob(f'{DIR_IN}/*_cm*')"
   ],
   "metadata": {
    "collapsed": false,
    "pycharm": {
     "name": "#%%\n"
    }
   }
  },
  {
   "cell_type": "code",
   "execution_count": 214,
   "outputs": [
    {
     "data": {
      "text/plain": "  0%|          | 0/6 [00:00<?, ?it/s]",
      "application/vnd.jupyter.widget-view+json": {
       "version_major": 2,
       "version_minor": 0,
       "model_id": "83c80be086864fa589889a5890936ec1"
      }
     },
     "metadata": {},
     "output_type": "display_data"
    }
   ],
   "source": [
    "for p_from in tqdm(ps_cm):\n",
    "    p_to = p_from.replace(DIR_IN, DIR_TMP).replace('.zip', '')\n",
    "\n",
    "    with zipfile.ZipFile(p_from) as z:\n",
    "        z.extractall(p_to)"
   ],
   "metadata": {
    "collapsed": false,
    "pycharm": {
     "name": "#%%\n"
    }
   }
  },
  {
   "cell_type": "code",
   "execution_count": 215,
   "outputs": [
    {
     "name": "stdout",
     "output_type": "stream",
     "text": [
      "{'cm102': ['./data/preprocess/tmp/metadata_cm-item_cm102_json/metadata_cm-item_cm102_json\\\\metadata_cm-item_cm102_00002.json',\n",
      "           './data/preprocess/tmp/metadata_cm-item_cm102_json/metadata_cm-item_cm102_json\\\\metadata_cm-item_cm102_00001.json'],\n",
      " 'cm105': ['./data/preprocess/tmp/metadata_cm-col_cm105_json/metadata_cm-col_cm105_json\\\\metadata_cm-col_cm105_00001.json'],\n",
      " 'cm106': ['./data/preprocess/tmp/metadata_cm-col_cm106_json/metadata_cm-col_cm106_json\\\\metadata_cm-col_cm106_00001.json']}\n"
     ]
    }
   ],
   "source": [
    "# 前処理\n",
    "## 対象\n",
    "ps_cm = {cm: glob.glob(f'{DIR_TMP}/*{cm}*/*') for cm in FNS_CM}\n",
    "pprint(ps_cm)"
   ],
   "metadata": {
    "collapsed": false,
    "pycharm": {
     "name": "#%%\n"
    }
   }
  },
  {
   "cell_type": "code",
   "execution_count": 216,
   "outputs": [],
   "source": [
    "# cm105: 漫画雑誌に関するデータを整形し、分析対象のIDを特定する\n",
    "def format_magazine_name(name):\n",
    "    \"\"\"name から published_name を取得\"\"\"\n",
    "    for x in name:\n",
    "        if type(x) is str:\n",
    "            return x\n",
    "    raise Exception(f'No magazine name is {name}!')"
   ],
   "metadata": {
    "collapsed": false,
    "pycharm": {
     "name": "#%%\n"
    }
   }
  },
  {
   "cell_type": "code",
   "execution_count": 217,
   "outputs": [],
   "source": [
    "cm105 = read_json(ps_cm['cm105'][0])\n",
    "df_cm105 = pd.DataFrame(cm105['@graph'])[COLS_CM105]"
   ],
   "metadata": {
    "collapsed": false,
    "pycharm": {
     "name": "#%%\n"
    }
   }
  },
  {
   "cell_type": "code",
   "execution_count": 218,
   "outputs": [],
   "source": [
    "# 雑誌名を取得\n",
    "df_cm105['mcname'] = df_cm105['name'].apply(lambda x: format_magazine_name(x))"
   ],
   "metadata": {
    "collapsed": false,
    "pycharm": {
     "name": "#%%\n"
    }
   }
  },
  {
   "cell_type": "code",
   "execution_count": 219,
   "outputs": [
    {
     "data": {
      "text/plain": "                                                         148   \\\nidentifier                                            C117607   \nlabel                                                週刊少年サンデー   \nname        [{'@language': 'ja-hrkt', '@value': 'シュウカンショウネ...   \nmcname                                               週刊少年サンデー   \n\n                                                         1449  \\\nidentifier                                            C119033   \nlabel                                                週刊少年マガジン   \nname        [週刊少年マガジン, {'@language': 'ja-hrkt', '@value': ...   \nmcname                                               週刊少年マガジン   \n\n                                                         1828  \\\nidentifier                                            C119459   \nlabel                                                週刊少年ジャンプ   \nname        [週刊少年ジャンプ, {'@language': 'ja-hrkt', '@value': ...   \nmcname                                               週刊少年ジャンプ   \n\n                                                         2569  \nidentifier                                            C120282  \nlabel                                              週刊少年チャンピオン  \nname        [{'@language': 'ja-hrkt', '@value': 'シュウカンショウネ...  \nmcname                                             週刊少年チャンピオン  ",
      "text/html": "<div>\n<style scoped>\n    .dataframe tbody tr th:only-of-type {\n        vertical-align: middle;\n    }\n\n    .dataframe tbody tr th {\n        vertical-align: top;\n    }\n\n    .dataframe thead th {\n        text-align: right;\n    }\n</style>\n<table border=\"1\" class=\"dataframe\">\n  <thead>\n    <tr style=\"text-align: right;\">\n      <th></th>\n      <th>148</th>\n      <th>1449</th>\n      <th>1828</th>\n      <th>2569</th>\n    </tr>\n  </thead>\n  <tbody>\n    <tr>\n      <td>identifier</td>\n      <td>C117607</td>\n      <td>C119033</td>\n      <td>C119459</td>\n      <td>C120282</td>\n    </tr>\n    <tr>\n      <td>label</td>\n      <td>週刊少年サンデー</td>\n      <td>週刊少年マガジン</td>\n      <td>週刊少年ジャンプ</td>\n      <td>週刊少年チャンピオン</td>\n    </tr>\n    <tr>\n      <td>name</td>\n      <td>[{'@language': 'ja-hrkt', '@value': 'シュウカンショウネ...</td>\n      <td>[週刊少年マガジン, {'@language': 'ja-hrkt', '@value': ...</td>\n      <td>[週刊少年ジャンプ, {'@language': 'ja-hrkt', '@value': ...</td>\n      <td>[{'@language': 'ja-hrkt', '@value': 'シュウカンショウネ...</td>\n    </tr>\n    <tr>\n      <td>mcname</td>\n      <td>週刊少年サンデー</td>\n      <td>週刊少年マガジン</td>\n      <td>週刊少年ジャンプ</td>\n      <td>週刊少年チャンピオン</td>\n    </tr>\n  </tbody>\n</table>\n</div>"
     },
     "execution_count": 219,
     "metadata": {},
     "output_type": "execute_result"
    }
   ],
   "source": [
    "# mcname で抽出\n",
    "df_cm105[df_cm105['mcname'].isin(MCNAMES)].T"
   ],
   "metadata": {
    "collapsed": false,
    "pycharm": {
     "name": "#%%\n"
    }
   }
  }
 ],
 "metadata": {
  "kernelspec": {
   "display_name": "Python 3",
   "language": "python",
   "name": "python3"
  },
  "language_info": {
   "codemirror_mode": {
    "name": "ipython",
    "version": 2
   },
   "file_extension": ".py",
   "mimetype": "text/x-python",
   "name": "python",
   "nbconvert_exporter": "python",
   "pygments_lexer": "ipython2",
   "version": "2.7.6"
  }
 },
 "nbformat": 4,
 "nbformat_minor": 0
}